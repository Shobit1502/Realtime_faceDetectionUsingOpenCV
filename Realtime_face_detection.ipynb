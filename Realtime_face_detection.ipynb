{
 "cells": [
  {
   "cell_type": "markdown",
   "id": "502461fd",
   "metadata": {},
   "source": [
    "# Realtime Face detection Using OpenCv\n"
   ]
  },
  {
   "cell_type": "code",
   "execution_count": 7,
   "id": "1b305408",
   "metadata": {},
   "outputs": [],
   "source": [
    "import numpy as np;\n",
    "import cv2\n"
   ]
  },
  {
   "cell_type": "code",
   "execution_count": 8,
   "id": "598ff12b",
   "metadata": {},
   "outputs": [],
   "source": [
    "face_cascader=cv2.CascadeClassifier('haarcascade_frontalface_default.xml')"
   ]
  },
  {
   "cell_type": "code",
   "execution_count": 13,
   "id": "f6bcd4ed",
   "metadata": {},
   "outputs": [],
   "source": [
    "def display(img):\n",
    "    image=img.copy()\n",
    "    grey=cv2.cvtColor(image,cv2.COLOR_BGR2GRAY)\n",
    "    box,dimensions=face_cascader.detectMultiScale2(grey,minNeighbors=8)\n",
    "    for x,y,w,h in box:\n",
    "        cv2.rectangle(image,(x,y),(x+w,y+h),(0,255,0),1)\n",
    "    return image"
   ]
  },
  {
   "cell_type": "code",
   "execution_count": 16,
   "id": "21d4688d",
   "metadata": {},
   "outputs": [],
   "source": [
    "cap=cv2.VideoCapture(0)\n",
    "while True:\n",
    "    ret,frame=cap.read()\n",
    "    if ret==False:\n",
    "        break\n",
    "    image_detect=display(frame)\n",
    "    cv2.imshow('Realtime detected face',image_detect)\n",
    "    if cv2.waitKey(1)==ord('a'):\n",
    "        break\n",
    "cap.release()\n",
    "cv2.destroyAllWindows()\n",
    "    "
   ]
  },
  {
   "cell_type": "markdown",
   "id": "41b8c232",
   "metadata": {},
   "source": [
    "## Made By Shobit"
   ]
  },
  {
   "cell_type": "code",
   "execution_count": null,
   "id": "916ec754",
   "metadata": {},
   "outputs": [],
   "source": []
  }
 ],
 "metadata": {
  "kernelspec": {
   "display_name": "Python 3 (ipykernel)",
   "language": "python",
   "name": "python3"
  },
  "language_info": {
   "codemirror_mode": {
    "name": "ipython",
    "version": 3
   },
   "file_extension": ".py",
   "mimetype": "text/x-python",
   "name": "python",
   "nbconvert_exporter": "python",
   "pygments_lexer": "ipython3",
   "version": "3.9.6"
  }
 },
 "nbformat": 4,
 "nbformat_minor": 5
}
